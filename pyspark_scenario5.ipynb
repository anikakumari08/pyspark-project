{
 "cells": [
  {
   "cell_type": "markdown",
   "metadata": {
    "application/vnd.databricks.v1+cell": {
     "cellMetadata": {
      "byteLimit": 2048000,
      "rowLimit": 10000
     },
     "inputWidgets": {},
     "nuid": "b82f5291-3571-4de0-a6f7-0932878ad30b",
     "showTitle": false,
     "tableResultSettingsMap": {},
     "title": ""
    }
   },
   "source": [
    "Create Source table\n"
   ]
  },
  {
   "cell_type": "code",
   "execution_count": 0,
   "metadata": {
    "application/vnd.databricks.v1+cell": {
     "cellMetadata": {
      "byteLimit": 2048000,
      "implicitDf": true,
      "rowLimit": 10000
     },
     "inputWidgets": {},
     "nuid": "db84b2b5-349b-4714-886f-cf0a7320e4bb",
     "showTitle": false,
     "tableResultSettingsMap": {},
     "title": ""
    }
   },
   "outputs": [],
   "source": [
    "%sql\n",
    "\n",
    "Create table pyspakr_catalog.source.customers( id int,updated_date timestamp, email string, city string, country string)"
   ]
  },
  {
   "cell_type": "code",
   "execution_count": 0,
   "metadata": {
    "application/vnd.databricks.v1+cell": {
     "cellMetadata": {
      "byteLimit": 2048000,
      "implicitDf": true,
      "rowLimit": 10000
     },
     "inputWidgets": {},
     "nuid": "452b0e10-8776-424e-8739-4f24b852b5cd",
     "showTitle": false,
     "tableResultSettingsMap": {},
     "title": ""
    }
   },
   "outputs": [
    {
     "output_type": "display_data",
     "data": {
      "text/html": [
       "<style scoped>\n",
       "  .table-result-container {\n",
       "    max-height: 300px;\n",
       "    overflow: auto;\n",
       "  }\n",
       "  table, th, td {\n",
       "    border: 1px solid black;\n",
       "    border-collapse: collapse;\n",
       "  }\n",
       "  th, td {\n",
       "    padding: 5px;\n",
       "  }\n",
       "  th {\n",
       "    text-align: left;\n",
       "  }\n",
       "</style><div class='table-result-container'><table class='table-result'><thead style='background-color: white'><tr><th>num_affected_rows</th><th>num_inserted_rows</th></tr></thead><tbody><tr><td>5</td><td>5</td></tr></tbody></table></div>"
      ]
     },
     "metadata": {
      "application/vnd.databricks.v1+output": {
       "addedWidgets": {},
       "aggData": [],
       "aggError": "",
       "aggOverflow": false,
       "aggSchema": [],
       "aggSeriesLimitReached": false,
       "aggType": "",
       "arguments": {},
       "columnCustomDisplayInfos": {},
       "data": [
        [
         5,
         5
        ]
       ],
       "datasetInfos": [
        {
         "name": "_sqldf",
         "schema": {
          "fields": [
           {
            "metadata": {},
            "name": "num_affected_rows",
            "nullable": true,
            "type": "long"
           },
           {
            "metadata": {},
            "name": "num_inserted_rows",
            "nullable": true,
            "type": "long"
           }
          ],
          "type": "struct"
         },
         "tableIdentifier": null,
         "typeStr": "pyspark.sql.connect.dataframe.DataFrame"
        }
       ],
       "dbfsResultPath": null,
       "isJsonSchema": true,
       "metadata": {
        "createTempViewForImplicitDf": true,
        "dataframeName": "_sqldf",
        "executionCount": 6
       },
       "overflow": false,
       "plotOptions": {
        "customPlotOptions": {},
        "displayType": "table",
        "pivotAggregation": null,
        "pivotColumns": null,
        "xColumns": null,
        "yColumns": null
       },
       "removedWidgets": [],
       "schema": [
        {
         "metadata": "{}",
         "name": "num_affected_rows",
         "type": "\"long\""
        },
        {
         "metadata": "{}",
         "name": "num_inserted_rows",
         "type": "\"long\""
        }
       ],
       "type": "table"
      }
     },
     "output_type": "display_data"
    }
   ],
   "source": [
    "%sql\n",
    "--select * from pyspakr_catalog.source.customers;\n",
    "\n",
    "Insert into pyspakr_catalog.source.customers\n",
    "values(1,current_timestamp(), 'abc@gmail.com', 'NY', 'USA'),\n",
    "(2,current_timestamp(),'xyz@gmail.com', 'LA', 'USA'),\n",
    "(3,current_timestamp(),'qwe@yahoo.com', 'NY', 'USA'),\n",
    "(4,current_timestamp(),'rty@yahoo.com', 'LA', 'USA'),\n",
    "(5,current_timestamp(),'tyu@yahoo.com', 'NY', 'USA')"
   ]
  },
  {
   "cell_type": "code",
   "execution_count": 0,
   "metadata": {
    "application/vnd.databricks.v1+cell": {
     "cellMetadata": {
      "byteLimit": 2048000,
      "implicitDf": true,
      "rowLimit": 10000
     },
     "inputWidgets": {},
     "nuid": "006401d0-3e67-4a15-9955-a85961abf096",
     "showTitle": false,
     "tableResultSettingsMap": {},
     "title": ""
    }
   },
   "outputs": [
    {
     "output_type": "display_data",
     "data": {
      "text/html": [
       "<style scoped>\n",
       "  .table-result-container {\n",
       "    max-height: 300px;\n",
       "    overflow: auto;\n",
       "  }\n",
       "  table, th, td {\n",
       "    border: 1px solid black;\n",
       "    border-collapse: collapse;\n",
       "  }\n",
       "  th, td {\n",
       "    padding: 5px;\n",
       "  }\n",
       "  th {\n",
       "    text-align: left;\n",
       "  }\n",
       "</style><div class='table-result-container'><table class='table-result'><thead style='background-color: white'><tr><th>id</th><th>updated_date</th><th>email</th><th>city</th><th>country</th></tr></thead><tbody><tr><td>1</td><td>2025-08-31T14:17:55.974Z</td><td>abc@gmail.com</td><td>NY</td><td>USA</td></tr><tr><td>2</td><td>2025-08-31T14:17:55.974Z</td><td>xyz@gmail.com</td><td>LA</td><td>USA</td></tr><tr><td>3</td><td>2025-08-31T14:17:55.974Z</td><td>qwe@yahoo.com</td><td>NY</td><td>USA</td></tr><tr><td>4</td><td>2025-08-31T14:17:55.974Z</td><td>rty@yahoo.com</td><td>LA</td><td>USA</td></tr><tr><td>5</td><td>2025-08-31T14:17:55.974Z</td><td>tyu@yahoo.com</td><td>NY</td><td>USA</td></tr></tbody></table></div>"
      ]
     },
     "metadata": {
      "application/vnd.databricks.v1+output": {
       "addedWidgets": {},
       "aggData": [],
       "aggError": "",
       "aggOverflow": false,
       "aggSchema": [],
       "aggSeriesLimitReached": false,
       "aggType": "",
       "arguments": {},
       "columnCustomDisplayInfos": {},
       "data": [
        [
         1,
         "2025-08-31T14:17:55.974Z",
         "abc@gmail.com",
         "NY",
         "USA"
        ],
        [
         2,
         "2025-08-31T14:17:55.974Z",
         "xyz@gmail.com",
         "LA",
         "USA"
        ],
        [
         3,
         "2025-08-31T14:17:55.974Z",
         "qwe@yahoo.com",
         "NY",
         "USA"
        ],
        [
         4,
         "2025-08-31T14:17:55.974Z",
         "rty@yahoo.com",
         "LA",
         "USA"
        ],
        [
         5,
         "2025-08-31T14:17:55.974Z",
         "tyu@yahoo.com",
         "NY",
         "USA"
        ]
       ],
       "datasetInfos": [
        {
         "name": "_sqldf",
         "schema": {
          "fields": [
           {
            "metadata": {},
            "name": "id",
            "nullable": true,
            "type": "integer"
           },
           {
            "metadata": {},
            "name": "updated_date",
            "nullable": true,
            "type": "timestamp"
           },
           {
            "metadata": {},
            "name": "email",
            "nullable": true,
            "type": "string"
           },
           {
            "metadata": {},
            "name": "city",
            "nullable": true,
            "type": "string"
           },
           {
            "metadata": {},
            "name": "country",
            "nullable": true,
            "type": "string"
           }
          ],
          "type": "struct"
         },
         "tableIdentifier": null,
         "typeStr": "pyspark.sql.connect.dataframe.DataFrame"
        }
       ],
       "dbfsResultPath": null,
       "isJsonSchema": true,
       "metadata": {
        "createTempViewForImplicitDf": true,
        "dataframeName": "_sqldf",
        "executionCount": 7
       },
       "overflow": false,
       "plotOptions": {
        "customPlotOptions": {},
        "displayType": "table",
        "pivotAggregation": null,
        "pivotColumns": null,
        "xColumns": null,
        "yColumns": null
       },
       "removedWidgets": [],
       "schema": [
        {
         "metadata": "{}",
         "name": "id",
         "type": "\"integer\""
        },
        {
         "metadata": "{}",
         "name": "updated_date",
         "type": "\"timestamp\""
        },
        {
         "metadata": "{}",
         "name": "email",
         "type": "\"string\""
        },
        {
         "metadata": "{}",
         "name": "city",
         "type": "\"string\""
        },
        {
         "metadata": "{}",
         "name": "country",
         "type": "\"string\""
        }
       ],
       "type": "table"
      }
     },
     "output_type": "display_data"
    }
   ],
   "source": [
    "%sql\n",
    "select * from pyspakr_catalog.source.customers;"
   ]
  },
  {
   "cell_type": "markdown",
   "metadata": {
    "application/vnd.databricks.v1+cell": {
     "cellMetadata": {
      "byteLimit": 2048000,
      "rowLimit": 10000
     },
     "inputWidgets": {},
     "nuid": "8ab9e6a2-8917-4260-92b6-37de52aeab35",
     "showTitle": false,
     "tableResultSettingsMap": {},
     "title": ""
    }
   },
   "source": [
    "Add scd2 related columns"
   ]
  },
  {
   "cell_type": "code",
   "execution_count": 0,
   "metadata": {
    "application/vnd.databricks.v1+cell": {
     "cellMetadata": {
      "byteLimit": 2048000,
      "rowLimit": 10000
     },
     "inputWidgets": {},
     "nuid": "01da09db-6025-4d7e-8ccc-b17fa2af7367",
     "showTitle": false,
     "tableResultSettingsMap": {},
     "title": ""
    }
   },
   "outputs": [],
   "source": [
    "if spark.catalog.tableExists(\"pyspakr_catalog.source.DimCustomers\"):\n",
    "    pass\n",
    "else:\n",
    "    spark.sql(\"\"\"\n",
    "              CREATE TABLE pyspakr_catalog.source.DimCustomers\n",
    "              SELECT *, \n",
    "              current_timestamp() as start_time,\n",
    "              cast('9999-01-01' as timestamp) as end_time,\n",
    "              'Y' as is_active\n",
    "              from pyspakr_catalog.source.customers \n",
    "              \"\"\")"
   ]
  },
  {
   "cell_type": "code",
   "execution_count": 0,
   "metadata": {
    "application/vnd.databricks.v1+cell": {
     "cellMetadata": {
      "byteLimit": 2048000,
      "implicitDf": true,
      "rowLimit": 10000
     },
     "inputWidgets": {},
     "nuid": "f91a0716-d297-45c6-a30b-ecf7d6d49788",
     "showTitle": false,
     "tableResultSettingsMap": {},
     "title": ""
    }
   },
   "outputs": [
    {
     "output_type": "display_data",
     "data": {
      "text/html": [
       "<style scoped>\n",
       "  .table-result-container {\n",
       "    max-height: 300px;\n",
       "    overflow: auto;\n",
       "  }\n",
       "  table, th, td {\n",
       "    border: 1px solid black;\n",
       "    border-collapse: collapse;\n",
       "  }\n",
       "  th, td {\n",
       "    padding: 5px;\n",
       "  }\n",
       "  th {\n",
       "    text-align: left;\n",
       "  }\n",
       "</style><div class='table-result-container'><table class='table-result'><thead style='background-color: white'><tr><th>id</th><th>email</th><th>city</th><th>country</th><th>start_time</th><th>end_time</th><th>is_active</th></tr></thead><tbody><tr><td>1</td><td>abc@gmail.com</td><td>NY</td><td>USA</td><td>2025-08-31T13:55:36.465Z</td><td>9999-01-01T00:00:00.000Z</td><td>Y</td></tr><tr><td>2</td><td>xyz@gmail.com</td><td>LA</td><td>USA</td><td>2025-08-31T13:55:36.465Z</td><td>9999-01-01T00:00:00.000Z</td><td>Y</td></tr><tr><td>3</td><td>qwe@yahoo.com</td><td>NY</td><td>USA</td><td>2025-08-31T13:55:36.465Z</td><td>9999-01-01T00:00:00.000Z</td><td>Y</td></tr><tr><td>4</td><td>rty@yahoo.com</td><td>LA</td><td>USA</td><td>2025-08-31T13:55:36.465Z</td><td>9999-01-01T00:00:00.000Z</td><td>Y</td></tr><tr><td>5</td><td>tyu@yahoo.com</td><td>NY</td><td>USA</td><td>2025-08-31T13:55:36.465Z</td><td>9999-01-01T00:00:00.000Z</td><td>Y</td></tr></tbody></table></div>"
      ]
     },
     "metadata": {
      "application/vnd.databricks.v1+output": {
       "addedWidgets": {},
       "aggData": [],
       "aggError": "",
       "aggOverflow": false,
       "aggSchema": [],
       "aggSeriesLimitReached": false,
       "aggType": "",
       "arguments": {},
       "columnCustomDisplayInfos": {},
       "data": [
        [
         1,
         "abc@gmail.com",
         "NY",
         "USA",
         "2025-08-31T13:55:36.465Z",
         "9999-01-01T00:00:00.000Z",
         "Y"
        ],
        [
         2,
         "xyz@gmail.com",
         "LA",
         "USA",
         "2025-08-31T13:55:36.465Z",
         "9999-01-01T00:00:00.000Z",
         "Y"
        ],
        [
         3,
         "qwe@yahoo.com",
         "NY",
         "USA",
         "2025-08-31T13:55:36.465Z",
         "9999-01-01T00:00:00.000Z",
         "Y"
        ],
        [
         4,
         "rty@yahoo.com",
         "LA",
         "USA",
         "2025-08-31T13:55:36.465Z",
         "9999-01-01T00:00:00.000Z",
         "Y"
        ],
        [
         5,
         "tyu@yahoo.com",
         "NY",
         "USA",
         "2025-08-31T13:55:36.465Z",
         "9999-01-01T00:00:00.000Z",
         "Y"
        ]
       ],
       "datasetInfos": [
        {
         "name": "_sqldf",
         "schema": {
          "fields": [
           {
            "metadata": {},
            "name": "id",
            "nullable": true,
            "type": "integer"
           },
           {
            "metadata": {},
            "name": "email",
            "nullable": true,
            "type": "string"
           },
           {
            "metadata": {},
            "name": "city",
            "nullable": true,
            "type": "string"
           },
           {
            "metadata": {},
            "name": "country",
            "nullable": true,
            "type": "string"
           },
           {
            "metadata": {},
            "name": "start_time",
            "nullable": true,
            "type": "timestamp"
           },
           {
            "metadata": {},
            "name": "end_time",
            "nullable": true,
            "type": "timestamp"
           },
           {
            "metadata": {},
            "name": "is_active",
            "nullable": true,
            "type": "string"
           }
          ],
          "type": "struct"
         },
         "tableIdentifier": null,
         "typeStr": "pyspark.sql.connect.dataframe.DataFrame"
        }
       ],
       "dbfsResultPath": null,
       "isJsonSchema": true,
       "metadata": {
        "createTempViewForImplicitDf": true,
        "dataframeName": "_sqldf",
        "executionCount": 22
       },
       "overflow": false,
       "plotOptions": {
        "customPlotOptions": {},
        "displayType": "table",
        "pivotAggregation": null,
        "pivotColumns": null,
        "xColumns": null,
        "yColumns": null
       },
       "removedWidgets": [],
       "schema": [
        {
         "metadata": "{}",
         "name": "id",
         "type": "\"integer\""
        },
        {
         "metadata": "{}",
         "name": "email",
         "type": "\"string\""
        },
        {
         "metadata": "{}",
         "name": "city",
         "type": "\"string\""
        },
        {
         "metadata": "{}",
         "name": "country",
         "type": "\"string\""
        },
        {
         "metadata": "{}",
         "name": "start_time",
         "type": "\"timestamp\""
        },
        {
         "metadata": "{}",
         "name": "end_time",
         "type": "\"timestamp\""
        },
        {
         "metadata": "{}",
         "name": "is_active",
         "type": "\"string\""
        }
       ],
       "type": "table"
      }
     },
     "output_type": "display_data"
    }
   ],
   "source": [
    "%sql\n",
    "select * from pyspakr_catalog.source.DimCustomers"
   ]
  },
  {
   "cell_type": "markdown",
   "metadata": {
    "application/vnd.databricks.v1+cell": {
     "cellMetadata": {},
     "inputWidgets": {},
     "nuid": "255b9c43-e747-4d53-b525-cc35757c2aae",
     "showTitle": false,
     "tableResultSettingsMap": {},
     "title": ""
    }
   },
   "source": [
    "SCD2"
   ]
  },
  {
   "cell_type": "code",
   "execution_count": 0,
   "metadata": {
    "application/vnd.databricks.v1+cell": {
     "cellMetadata": {},
     "inputWidgets": {},
     "nuid": "5dbc5b4c-66d8-4c14-8e70-3a7a32762f98",
     "showTitle": false,
     "tableResultSettingsMap": {},
     "title": ""
    }
   },
   "outputs": [],
   "source": []
  }
 ],
 "metadata": {
  "application/vnd.databricks.v1+notebook": {
   "computePreferences": null,
   "dashboards": [],
   "environmentMetadata": {
    "base_environment": "",
    "environment_version": "3"
   },
   "inputWidgetPreferences": null,
   "language": "python",
   "notebookMetadata": {
    "mostRecentlyExecutedCommandWithImplicitDF": {
     "commandId": 8494506016728298,
     "dataframes": [
      "_sqldf"
     ]
    },
    "pythonIndentUnit": 4
   },
   "notebookName": "pyspark_scenario5",
   "widgets": {}
  },
  "language_info": {
   "name": "python"
  }
 },
 "nbformat": 4,
 "nbformat_minor": 0
}